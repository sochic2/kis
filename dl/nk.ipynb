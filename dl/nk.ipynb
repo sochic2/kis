{
  "nbformat": 4,
  "nbformat_minor": 0,
  "metadata": {
    "colab": {
      "name": "Untitled0.ipynb",
      "provenance": [],
      "collapsed_sections": []
    },
    "kernelspec": {
      "name": "python3",
      "display_name": "Python 3"
    }
  },
  "cells": [
    {
      "cell_type": "code",
      "metadata": {
        "id": "mSTPWmEYt-QF",
        "colab_type": "code",
        "colab": {
          "base_uri": "https://localhost:8080/",
          "height": 71
        },
        "outputId": "056dd460-e438-474e-b8f8-5ac194a692b6"
      },
      "source": [
        "# Exercise 1\n",
        "print('남기철')\n",
        "print('봉명동')\n",
        "print('01044691218')"
      ],
      "execution_count": 6,
      "outputs": [
        {
          "output_type": "stream",
          "text": [
            "남기철\n",
            "봉명동\n",
            "01044691218\n"
          ],
          "name": "stdout"
        }
      ]
    },
    {
      "cell_type": "code",
      "metadata": {
        "id": "BdWkz0PJuF0x",
        "colab_type": "code",
        "colab": {
          "base_uri": "https://localhost:8080/",
          "height": 71
        },
        "outputId": "f7e0baf4-2b21-4cc5-d58a-01958616854d"
      },
      "source": [
        "# Exercise 2\n",
        "print('사과 개수 입력 : ')\n",
        "apple = int(input())\n",
        "print('바구니 개수 입력 : ')\n",
        "bascket = int(input())\n",
        "result = apple//bascket\n",
        "if apple%bascket:\n",
        "  result += 1\n",
        "print(result)"
      ],
      "execution_count": 10,
      "outputs": [
        {
          "output_type": "stream",
          "text": [
            "123\n",
            "10\n",
            "13\n"
          ],
          "name": "stdout"
        }
      ]
    },
    {
      "cell_type": "code",
      "metadata": {
        "id": "AcSRhO_h_gFo",
        "colab_type": "code",
        "colab": {
          "base_uri": "https://localhost:8080/",
          "height": 125
        },
        "outputId": "396463f8-a948-41c8-98a2-9af0a0c78f22"
      },
      "source": [
        "# Exercise 3\n",
        "print('첫번째 정수 입력 : ')\n",
        "i = int(input())\n",
        "print('두번째 정수 입력 : ')\n",
        "j = int(input())\n",
        "print(i+j)\n",
        "print(i-j)\n",
        "print(i*j)\n",
        "print(i//j)"
      ],
      "execution_count": 11,
      "outputs": [
        {
          "output_type": "stream",
          "text": [
            "36\n",
            "12\n",
            "48\n",
            "24\n",
            "432\n",
            "12\n"
          ],
          "name": "stdout"
        }
      ]
    },
    {
      "cell_type": "code",
      "metadata": {
        "id": "I_b1GGZF_u95",
        "colab_type": "code",
        "colab": {
          "base_uri": "https://localhost:8080/",
          "height": 107
        },
        "outputId": "e5e78f93-f2b7-48c9-a27a-3ec1b8639a7b"
      },
      "source": [
        "# Exercise 4\n",
        "print('당신의 수학 점수를 입력하세요.')\n",
        "math_score = int(input())\n",
        "print('당신의 영어 점수를 입력하세요.')\n",
        "english_score = int(input())\n",
        "print('당신의 평균점수는 ' + str((math_score + english_score)/2))\n"
      ],
      "execution_count": 17,
      "outputs": [
        {
          "output_type": "stream",
          "text": [
            "당신의 수학 점수를 입력하세요.\n",
            "92\n",
            "당신의 영어 점수를 입력하세요.\n",
            "45\n",
            "당신의 평균점수는 68.5\n"
          ],
          "name": "stdout"
        }
      ]
    },
    {
      "cell_type": "code",
      "metadata": {
        "id": "hAi_ym8eAzxg",
        "colab_type": "code",
        "colab": {
          "base_uri": "https://localhost:8080/",
          "height": 53
        },
        "outputId": "040514c6-5707-49c9-8fbd-38349ee97245"
      },
      "source": [
        "# Exercise 5\n",
        "num = int(input())\n",
        "result = num//100 * 100\n",
        "print(result)"
      ],
      "execution_count": 37,
      "outputs": [
        {
          "output_type": "stream",
          "text": [
            "10\n",
            "0\n"
          ],
          "name": "stdout"
        }
      ]
    },
    {
      "cell_type": "code",
      "metadata": {
        "id": "hJ5Herv2A_Ug",
        "colab_type": "code",
        "colab": {
          "base_uri": "https://localhost:8080/",
          "height": 53
        },
        "outputId": "fd134492-1d5c-40d5-eec8-3b37d00181c0"
      },
      "source": [
        "# Exercise 6\n",
        "num = input()\n",
        "result = 0\n",
        "for i in num:\n",
        "  result += int(i)\n",
        "\n",
        "print(result)"
      ],
      "execution_count": 22,
      "outputs": [
        {
          "output_type": "stream",
          "text": [
            "9145\n",
            "19\n"
          ],
          "name": "stdout"
        }
      ]
    },
    {
      "cell_type": "code",
      "metadata": {
        "id": "d8aKsiLABSDf",
        "colab_type": "code",
        "colab": {
          "base_uri": "https://localhost:8080/",
          "height": 71
        },
        "outputId": "f68251df-da5c-4812-c6f6-ecd67c2eb788"
      },
      "source": [
        "# Exercise 7\n",
        "print('문자열을 입력하세요 : ', end=' ')\n",
        "\n",
        "x = input()\n",
        "print('문자의 개수: ' + str(len(x)))\n",
        "print('자료형: '+ str(type(x)))\n"
      ],
      "execution_count": 43,
      "outputs": [
        {
          "output_type": "stream",
          "text": [
            "문자열을 입력하세요 :  asdf\n",
            "문자의 개수: 4\n",
            "자료형: <class 'str'>\n"
          ],
          "name": "stdout"
        }
      ]
    },
    {
      "cell_type": "code",
      "metadata": {
        "id": "2pCEh9ZjEgHm",
        "colab_type": "code",
        "colab": {
          "base_uri": "https://localhost:8080/",
          "height": 35
        },
        "outputId": "1e15b436-7d9e-4e19-b412-773d45a04b36"
      },
      "source": [
        "# Exercise 8\n",
        "result = 0\n",
        "for i in range(1, 101):\n",
        "  if i%3 == 2:\n",
        "    result += i\n",
        "print(result)"
      ],
      "execution_count": 38,
      "outputs": [
        {
          "output_type": "stream",
          "text": [
            "1650\n"
          ],
          "name": "stdout"
        }
      ]
    },
    {
      "cell_type": "code",
      "metadata": {
        "id": "-aFpT4k3EsuN",
        "colab_type": "code",
        "colab": {
          "base_uri": "https://localhost:8080/",
          "height": 53
        },
        "outputId": "29169e6c-6caa-4a8f-ea2f-1bd2bc7ec141"
      },
      "source": [
        "# Exercise 9\n",
        "print('화씨를 입력하시오', end=' ')\n",
        "f = int(input())\n",
        "print('섭씨 값은: ', (f-32)*5.0/9.0)\n"
      ],
      "execution_count": 42,
      "outputs": [
        {
          "output_type": "stream",
          "text": [
            "화씨를 입력하시오 100\n",
            "섭씨 값은:  37.77777777777778\n"
          ],
          "name": "stdout"
        }
      ]
    },
    {
      "cell_type": "code",
      "metadata": {
        "id": "GRNS5XVpFuSV",
        "colab_type": "code",
        "colab": {
          "base_uri": "https://localhost:8080/",
          "height": 233
        },
        "outputId": "2c753aa5-e14e-42e2-f7bb-099f6841724c"
      },
      "source": [
        "# Exercise 10\n",
        "import random\n",
        "x = random.randint(0, 31)\n",
        "while True:\n",
        "  print('0~30 사이의 숫자를 입력하세요.', end=' ')\n",
        "  num = int(input())\n",
        "  if num == x:\n",
        "    print('맞혔어요!')\n",
        "    break\n",
        "  elif num > x:\n",
        "    print('그보다 더 작아요!')\n",
        "  else:\n",
        "    print('그보다 더 커요!')"
      ],
      "execution_count": 51,
      "outputs": [
        {
          "output_type": "stream",
          "text": [
            "0~30 사이의 숫자를 입력하세요. 15\n",
            "그보다 더 작아요!\n",
            "0~30 사이의 숫자를 입력하세요. 7\n",
            "그보다 더 커요!\n",
            "0~30 사이의 숫자를 입력하세요. 10\n",
            "그보다 더 커요!\n",
            "0~30 사이의 숫자를 입력하세요. 13\n",
            "그보다 더 작아요!\n",
            "0~30 사이의 숫자를 입력하세요. 12\n",
            "그보다 더 작아요!\n",
            "0~30 사이의 숫자를 입력하세요. 11\n",
            "맞혔어요!\n"
          ],
          "name": "stdout"
        }
      ]
    },
    {
      "cell_type": "code",
      "metadata": {
        "id": "CISjyXraG55e",
        "colab_type": "code",
        "colab": {
          "base_uri": "https://localhost:8080/",
          "height": 359
        },
        "outputId": "5b8357d4-a6de-4f9b-882d-c576a274173d"
      },
      "source": [
        "# Exercise 11\n",
        "def add(a, b):\n",
        "  return a+b\n",
        "def sub(a, b):\n",
        "  return a-b\n",
        "def Mul(a, b):\n",
        "  return a*b\n",
        "def Div(a, b):\n",
        "  return a/b\n",
        "\n",
        "while True:\n",
        "  print('Select menu\\n0. add\\n1. Sub\\n2. Mul\\n3. Div\\n4. Quit\\nSelect menu:', end='')\n",
        "  menu = int(input())\n",
        "  if menu == 4:\n",
        "    print('Bye bye~ :)')\n",
        "    break\n",
        "  else:\n",
        "    print('First operand:', end='')\n",
        "    a = int(input())\n",
        "    print('Second operand:', end='')\n",
        "    b = int(input())\n",
        "    if menu == 0:\n",
        "      result = add(a, b)\n",
        "      print('Result = ', result)\n",
        "    if menu == 1:\n",
        "      result = sub(a, b)\n",
        "      print('Result = ', sub(a, b))\n",
        "    if menu == 2:\n",
        "      result = Mul(a, b)\n",
        "      print('Result = ', result)\n",
        "    if menu == 3:\n",
        "      result = Div(a, b)\n",
        "      print('Result = ', Div(a, b))\n",
        "    print()"
      ],
      "execution_count": 63,
      "outputs": [
        {
          "output_type": "stream",
          "text": [
            "Select menu\n",
            "0. add\n",
            "1. Sub\n",
            "2. Mul\n",
            "3. Div\n",
            "4. Quit\n",
            "Select menu:3\n",
            "First operand:3\n",
            "Second operand:10\n",
            "Result =  0.3\n",
            "\n",
            "Select menu\n",
            "0. add\n",
            "1. Sub\n",
            "2. Mul\n",
            "3. Div\n",
            "4. Quit\n",
            "Select menu:4\n",
            "Bye bye~ :)\n"
          ],
          "name": "stdout"
        }
      ]
    },
    {
      "cell_type": "code",
      "metadata": {
        "id": "Np3IwI5HKYCE",
        "colab_type": "code",
        "colab": {
          "base_uri": "https://localhost:8080/",
          "height": 107
        },
        "outputId": "7b70d15f-69bd-44ce-fdf1-5d8b8a714ffd"
      },
      "source": [
        "# Exercise 12\n",
        "class Account():\n",
        "  def __init__(self, account, name, balance):\n",
        "    self.accountNo = account\n",
        "    self.name = name\n",
        "    self.balance = balance\n",
        "\n",
        "  def showBalance(self):\n",
        "    print(self.name, '님 잔고는 ', self.balance, '입니다')\n",
        "    return\n",
        "\n",
        "  def deposit(self, amount):\n",
        "    self.balance += amount\n",
        "    return\n",
        "  def withdraw(self, amount):\n",
        "    self.balance -= amount\n",
        "\n",
        "a = Account('1111', '유재석', 10000)\n",
        "b = Account('2222', '박명수', 20000)\n",
        "\n",
        "a.showBalance()\n",
        "a.deposit(20000)\n",
        "a.showBalance()\n",
        "a.withdraw(20000)\n",
        "a.showBalance()\n",
        "b.showBalance()\n",
        "b.deposit(20000)\n",
        "b.showBalance()"
      ],
      "execution_count": 70,
      "outputs": [
        {
          "output_type": "stream",
          "text": [
            "유재석 님 잔고는  10000 입니다\n",
            "유재석 님 잔고는  30000 입니다\n",
            "유재석 님 잔고는  10000 입니다\n",
            "박명수 님 잔고는  20000 입니다\n",
            "박명수 님 잔고는  40000 입니다\n"
          ],
          "name": "stdout"
        }
      ]
    }
  ]
}