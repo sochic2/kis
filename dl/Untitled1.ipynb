{
 "cells": [
  {
   "cell_type": "code",
   "execution_count": null,
   "metadata": {},
   "outputs": [
    {
     "name": "stdout",
     "output_type": "stream",
     "text": [
      "Select menu\n",
      "0. add\n",
      "1. Sub\n",
      "2. Mul\n",
      "3. Div\n",
      "4. Quit\n",
      "Select menu:\n",
      "0\n",
      "First operand:10\n",
      "Second operand:20\n",
      "Select menu\n",
      "0. add\n",
      "1. Sub\n",
      "2. Mul\n",
      "3. Div\n",
      "4. Quit\n",
      "Select menu:\n"
     ]
    }
   ],
   "source": [
    "# Exercise 11\n",
    "def add(a, b):\n",
    "  return a+b\n",
    "def sub(a, b):\n",
    "  return a-b\n",
    "def Mul(a, b):\n",
    "  return a*b\n",
    "def Div(a, b):\n",
    "  return a/b\n",
    "\n",
    "while True:\n",
    "  print('Select menu\\n0. add\\n1. Sub\\n2. Mul\\n3. Div\\n4. Quit\\nSelect menu:')\n",
    "  menu = int(input())\n",
    "  if menu == 4:\n",
    "    print('Bye bye~ :)')\n",
    "    break\n",
    "  else:\n",
    "    print('First operand:', end='')\n",
    "    a = int(input())\n",
    "    print('Second operand:', end='')\n",
    "    b = int(input())\n",
    "    if menu == 0:\n",
    "      result = add(a, b)\n",
    "      print('Result = ', result)\n",
    "    if menu == 1:\n",
    "      result = sub(a, b)\n",
    "      print('Result = ', sub(a, b))\n",
    "    if menu == 2:\n",
    "      result = Mul(a, b)\n",
    "      print('Result = ', result)\n",
    "    if menu == 3:\n",
    "      result = Div(a, b)\n",
    "      print('Result = ', Div(a, b))"
   ]
  },
  {
   "cell_type": "code",
   "execution_count": null,
   "metadata": {},
   "outputs": [],
   "source": []
  }
 ],
 "metadata": {
  "kernelspec": {
   "display_name": "Python 3",
   "language": "python",
   "name": "python3"
  },
  "language_info": {
   "codemirror_mode": {
    "name": "ipython",
    "version": 3
   },
   "file_extension": ".py",
   "mimetype": "text/x-python",
   "name": "python",
   "nbconvert_exporter": "python",
   "pygments_lexer": "ipython3",
   "version": "3.7.6"
  }
 },
 "nbformat": 4,
 "nbformat_minor": 4
}
